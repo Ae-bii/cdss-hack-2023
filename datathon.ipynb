{
  "nbformat": 4,
  "nbformat_minor": 0,
  "metadata": {
    "colab": {
      "provenance": []
    },
    "kernelspec": {
      "name": "python3",
      "display_name": "Python 3"
    },
    "language_info": {
      "name": "python"
    },
    "accelerator": "GPU",
    "gpuClass": "standard"
  },
  "cells": [
    {
      "cell_type": "code",
      "source": [
        "from google.colab import drive\n",
        "drive.mount('/content/drive/')"
      ],
      "metadata": {
        "id": "OpYSAgTYRCyO"
      },
      "execution_count": null,
      "outputs": []
    },
    {
      "cell_type": "code",
      "execution_count": null,
      "metadata": {
        "id": "7Vpmo_YdvjNU"
      },
      "outputs": [],
      "source": [
        "import pandas as pd\n",
        "import numpy as np\n",
        "import matplotlib.pyplot as plt\n",
        "import sklearn as sk"
      ]
    },
    {
      "cell_type": "code",
      "source": [
        "path = \"./drive/MyDrive/Data/\"\n",
        "raw_pulls = pd.read_csv(path + \"Raw/pulls.csv\")\n",
        "raw_wish_total= pd.read_csv(path + \"Raw/pulls.csv\")\n",
        "raw_wishes = pd.read_csv(path + \"Raw/wishes_clean_raw.csv\")\n",
        "\n",
        "working_pulls = pd.read_csv(path + \"Working/pulls.csv\")\n",
        "working_wish_total = pd.read_csv(path + \"Working/wish_total.csv\")\n",
        "working_wishes = pd.read_csv(path + \"Working/wishes_clean_working.csv\")"
      ],
      "metadata": {
        "id": "Sq5xvE-uRBUw"
      },
      "execution_count": null,
      "outputs": []
    },
    {
      "cell_type": "code",
      "source": [
        "raw_pulls"
      ],
      "metadata": {
        "id": "HnlSvig6SwFQ"
      },
      "execution_count": null,
      "outputs": []
    },
    {
      "cell_type": "code",
      "source": [
        "raw_wish_total.head()"
      ],
      "metadata": {
        "id": "LQi0cTdOWvFS"
      },
      "execution_count": null,
      "outputs": []
    },
    {
      "cell_type": "code",
      "source": [
        "raw_wishes.head()"
      ],
      "metadata": {
        "id": "XRheA7DEbNeI"
      },
      "execution_count": null,
      "outputs": []
    },
    {
      "cell_type": "code",
      "source": [
        "working_pulls.head()"
      ],
      "metadata": {
        "id": "7KD4mCEUW1PV"
      },
      "execution_count": null,
      "outputs": []
    },
    {
      "cell_type": "code",
      "source": [
        "working_wish_total.head()"
      ],
      "metadata": {
        "id": "wwsHvRgjTHBK"
      },
      "execution_count": null,
      "outputs": []
    },
    {
      "cell_type": "code",
      "source": [
        "working_wishes.head()"
      ],
      "metadata": {
        "id": "N4Kkg4r8bTFE"
      },
      "execution_count": null,
      "outputs": []
    },
    {
      "cell_type": "code",
      "source": [
        "pity_counts = raw_pulls.loc[(raw_pulls['rarity'] == 5) & (raw_pulls['type'] == \"weapon\")]['pity'].value_counts()\n",
        "pity_counts = pity_counts.sort_index()\n",
        "\n",
        "normalized_pity_counts=(pity_counts-pity_counts.min())/(pity_counts.max()-pity_counts.min())\n",
        "# four_stars = raw_pulls['rarity'].value_counts()[4]\n",
        "# five_stars = raw_pulls['rarity'].value_counts()[5]"
      ],
      "metadata": {
        "id": "DIBurtGyUgg4"
      },
      "execution_count": null,
      "outputs": []
    },
    {
      "cell_type": "code",
      "source": [
        "pity_counts"
      ],
      "metadata": {
        "id": "estF_Y27y9o_"
      },
      "execution_count": null,
      "outputs": []
    },
    {
      "cell_type": "code",
      "source": [
        "plt.plot(normalized_pity_counts.index, normalized_pity_counts.values)\n",
        "plt.title('Weapon Pull Number vs Normalized Frequency')\n",
        "plt.xlabel('Weapon Pull #')\n",
        "plt.ylabel('Normalized Frequency')\n",
        "plt.show()"
      ],
      "metadata": {
        "id": "uVXqVgbKfZo9"
      },
      "execution_count": null,
      "outputs": []
    },
    {
      "cell_type": "code",
      "source": [
        "plt.hist(normalized_pity_counts.values, bins = 90)"
      ],
      "metadata": {
        "id": "1MR7V-bfhh6Z"
      },
      "execution_count": null,
      "outputs": []
    }
  ]
}